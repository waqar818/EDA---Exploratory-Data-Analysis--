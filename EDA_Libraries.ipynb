{
 "cells": [
  {
   "cell_type": "code",
   "execution_count": 5,
   "metadata": {},
   "outputs": [],
   "source": [
    "import pandas as pd\n",
    "import seaborn as sns\n",
    "import numpy as np\n",
    "import matplotlib.pyplot as plt\n",
    "#from pandas_profiling import ProfileReport\n",
    "from skimpy import skim"
   ]
  },
  {
   "cell_type": "code",
   "execution_count": 6,
   "metadata": {},
   "outputs": [
    {
     "name": "stdout",
     "output_type": "stream",
     "text": [
      "┌────────────────────────────── skimpy summary ───────────────────────────────┐\n",
      "│ \u001b[3m         Data Summary         \u001b[0m \u001b[3m      Data Types       \u001b[0m                      │\n",
      "│ ┌───────────────────┬────────┐ ┌─────────────┬───────┐                      │\n",
      "│ │\u001b[1;36m \u001b[0m\u001b[1;36mdataframe        \u001b[0m\u001b[1;36m \u001b[0m│\u001b[1;36m \u001b[0m\u001b[1;36mValues\u001b[0m\u001b[1;36m \u001b[0m│ │\u001b[1;36m \u001b[0m\u001b[1;36mColumn Type\u001b[0m\u001b[1;36m \u001b[0m│\u001b[1;36m \u001b[0m\u001b[1;36mCount\u001b[0m\u001b[1;36m \u001b[0m│                      │\n",
      "│ ├───────────────────┼────────┤ ├─────────────┼───────┤                      │\n",
      "│ │ Number of rows    │ 53940  │ │ float64     │ 6     │                      │\n",
      "│ │ Number of columns │ 10     │ │ category    │ 3     │                      │\n",
      "│ └───────────────────┴────────┘ │ int32       │ 1     │                      │\n",
      "│                                └─────────────┴───────┘                      │\n",
      "│ \u001b[3m       Categories        \u001b[0m                                                   │\n",
      "│ ┌───────────────────────┐                                                   │\n",
      "│ │\u001b[1;36m \u001b[0m\u001b[1;36mCategorical Variables\u001b[0m\u001b[1;36m \u001b[0m│                                                   │\n",
      "│ ├───────────────────────┤                                                   │\n",
      "│ │ cut                   │                                                   │\n",
      "│ │ color                 │                                                   │\n",
      "│ │ clarity               │                                                   │\n",
      "│ └───────────────────────┘                                                   │\n",
      "│ \u001b[3m                                  number                                  \u001b[0m  │\n",
      "│ ┌──────────┬────┬──────┬──────┬──────┬─────┬─────┬──────┬───────┬────────┐  │\n",
      "│ │\u001b[1m \u001b[0m\u001b[1mcolumn_n\u001b[0m\u001b[1m \u001b[0m│\u001b[1m    \u001b[0m│\u001b[1m      \u001b[0m│\u001b[1m      \u001b[0m│\u001b[1m      \u001b[0m│\u001b[1m     \u001b[0m│\u001b[1m     \u001b[0m│\u001b[1m      \u001b[0m│\u001b[1m       \u001b[0m│\u001b[1m        \u001b[0m│  │\n",
      "│ │\u001b[1m \u001b[0m\u001b[1mame     \u001b[0m\u001b[1m \u001b[0m│\u001b[1m \u001b[0m\u001b[1mNA\u001b[0m\u001b[1m \u001b[0m│\u001b[1m \u001b[0m\u001b[1mNA %\u001b[0m\u001b[1m \u001b[0m│\u001b[1m \u001b[0m\u001b[1mmean\u001b[0m\u001b[1m \u001b[0m│\u001b[1m \u001b[0m\u001b[1msd  \u001b[0m\u001b[1m \u001b[0m│\u001b[1m \u001b[0m\u001b[1mp0 \u001b[0m\u001b[1m \u001b[0m│\u001b[1m \u001b[0m\u001b[1mp25\u001b[0m\u001b[1m \u001b[0m│\u001b[1m \u001b[0m\u001b[1mp75 \u001b[0m\u001b[1m \u001b[0m│\u001b[1m \u001b[0m\u001b[1mp100 \u001b[0m\u001b[1m \u001b[0m│\u001b[1m \u001b[0m\u001b[1mhist  \u001b[0m\u001b[1m \u001b[0m│  │\n",
      "│ ├──────────┼────┼──────┼──────┼──────┼─────┼─────┼──────┼───────┼────────┤  │\n",
      "│ │ \u001b[37mcarat   \u001b[0m │ \u001b[36m 0\u001b[0m │ \u001b[36m   0\u001b[0m │ \u001b[36m 0.8\u001b[0m │ \u001b[36m0.47\u001b[0m │ \u001b[36m0.2\u001b[0m │ \u001b[36m0.4\u001b[0m │ \u001b[36m   1\u001b[0m │ \u001b[36m    5\u001b[0m │ \u001b[32m  █▃  \u001b[0m │  │\n",
      "│ │ \u001b[37mdepth   \u001b[0m │ \u001b[36m 0\u001b[0m │ \u001b[36m   0\u001b[0m │ \u001b[36m  62\u001b[0m │ \u001b[36m 1.4\u001b[0m │ \u001b[36m 43\u001b[0m │ \u001b[36m 61\u001b[0m │ \u001b[36m  62\u001b[0m │ \u001b[36m   79\u001b[0m │ \u001b[32m   ▂█ \u001b[0m │  │\n",
      "│ │ \u001b[37mtable   \u001b[0m │ \u001b[36m 0\u001b[0m │ \u001b[36m   0\u001b[0m │ \u001b[36m  57\u001b[0m │ \u001b[36m 2.2\u001b[0m │ \u001b[36m 43\u001b[0m │ \u001b[36m 56\u001b[0m │ \u001b[36m  59\u001b[0m │ \u001b[36m   95\u001b[0m │ \u001b[32m  █▁  \u001b[0m │  │\n",
      "│ │ \u001b[37mprice   \u001b[0m │ \u001b[36m 0\u001b[0m │ \u001b[36m   0\u001b[0m │ \u001b[36m3900\u001b[0m │ \u001b[36m4000\u001b[0m │ \u001b[36m330\u001b[0m │ \u001b[36m950\u001b[0m │ \u001b[36m5300\u001b[0m │ \u001b[36m19000\u001b[0m │ \u001b[32m █▃▁▁ \u001b[0m │  │\n",
      "│ │ \u001b[37mx       \u001b[0m │ \u001b[36m 0\u001b[0m │ \u001b[36m   0\u001b[0m │ \u001b[36m 5.7\u001b[0m │ \u001b[36m 1.1\u001b[0m │ \u001b[36m  0\u001b[0m │ \u001b[36m4.7\u001b[0m │ \u001b[36m 6.5\u001b[0m │ \u001b[36m   11\u001b[0m │ \u001b[32m  ██▂ \u001b[0m │  │\n",
      "│ │ \u001b[37my       \u001b[0m │ \u001b[36m 0\u001b[0m │ \u001b[36m   0\u001b[0m │ \u001b[36m 5.7\u001b[0m │ \u001b[36m 1.1\u001b[0m │ \u001b[36m  0\u001b[0m │ \u001b[36m4.7\u001b[0m │ \u001b[36m 6.5\u001b[0m │ \u001b[36m   59\u001b[0m │ \u001b[32m  █   \u001b[0m │  │\n",
      "│ │ \u001b[37mz       \u001b[0m │ \u001b[36m 0\u001b[0m │ \u001b[36m   0\u001b[0m │ \u001b[36m 3.5\u001b[0m │ \u001b[36m0.71\u001b[0m │ \u001b[36m  0\u001b[0m │ \u001b[36m2.9\u001b[0m │ \u001b[36m   4\u001b[0m │ \u001b[36m   32\u001b[0m │ \u001b[32m  █   \u001b[0m │  │\n",
      "│ └──────────┴────┴──────┴──────┴──────┴─────┴─────┴──────┴───────┴────────┘  │\n",
      "│ \u001b[3m                                 category                                 \u001b[0m  │\n",
      "│ ┌───────────────────────┬───────┬──────────┬───────────────┬─────────────┐  │\n",
      "│ │\u001b[1m \u001b[0m\u001b[1mcolumn_name          \u001b[0m\u001b[1m \u001b[0m│\u001b[1m \u001b[0m\u001b[1mNA   \u001b[0m\u001b[1m \u001b[0m│\u001b[1m \u001b[0m\u001b[1mNA %    \u001b[0m\u001b[1m \u001b[0m│\u001b[1m \u001b[0m\u001b[1mordered      \u001b[0m\u001b[1m \u001b[0m│\u001b[1m \u001b[0m\u001b[1munique     \u001b[0m\u001b[1m \u001b[0m│  │\n",
      "│ ├───────────────────────┼───────┼──────────┼───────────────┼─────────────┤  │\n",
      "│ │ \u001b[37mcut                  \u001b[0m │ \u001b[36m    0\u001b[0m │ \u001b[36m       0\u001b[0m │ \u001b[96mFalse        \u001b[0m │ \u001b[36m          5\u001b[0m │  │\n",
      "│ │ \u001b[37mcolor                \u001b[0m │ \u001b[36m    0\u001b[0m │ \u001b[36m       0\u001b[0m │ \u001b[96mFalse        \u001b[0m │ \u001b[36m          7\u001b[0m │  │\n",
      "│ │ \u001b[37mclarity              \u001b[0m │ \u001b[36m    0\u001b[0m │ \u001b[36m       0\u001b[0m │ \u001b[96mFalse        \u001b[0m │ \u001b[36m          8\u001b[0m │  │\n",
      "│ └───────────────────────┴───────┴──────────┴───────────────┴─────────────┘  │\n",
      "└──────────────────────────────────── End ────────────────────────────────────┘\n"
     ]
    }
   ],
   "source": [
    "df = sns.load_dataset(\"diamonds\")\n",
    "skim(df)"
   ]
  },
  {
   "cell_type": "code",
   "execution_count": null,
   "metadata": {},
   "outputs": [],
   "source": []
  }
 ],
 "metadata": {
  "kernelspec": {
   "display_name": "Python 3",
   "language": "python",
   "name": "python3"
  },
  "language_info": {
   "codemirror_mode": {
    "name": "ipython",
    "version": 3
   },
   "file_extension": ".py",
   "mimetype": "text/x-python",
   "name": "python",
   "nbconvert_exporter": "python",
   "pygments_lexer": "ipython3",
   "version": "3.10.5"
  },
  "orig_nbformat": 4
 },
 "nbformat": 4,
 "nbformat_minor": 2
}
